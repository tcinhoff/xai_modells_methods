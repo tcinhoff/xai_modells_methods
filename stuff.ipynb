{
 "cells": [
  {
   "cell_type": "code",
   "execution_count": 7,
   "metadata": {},
   "outputs": [],
   "source": [
    "import pandas as pd\n",
    "\n",
    "train_data = pd.read_csv(\"trainings_daten_stuttart.csv\")\n",
    "\n",
    "last_date = train_data.iloc[train_data.last_valid_index()].date\n",
    "last_date = pd.to_datetime(last_date)\n",
    "last_date = last_date - pd.DateOffset(months=1)\n",
    "test_data = train_data[pd.to_datetime(train_data.date) > last_date]\n",
    "test_data = test_data.drop(columns=[\"yhat\"])\n",
    "train_data = train_data[pd.to_datetime(train_data.date) <= last_date]\n",
    "train_data = train_data.dropna()\n",
    "\n",
    "test_data.set_index(\"date\", inplace=True)\n",
    "train_data.set_index(\"date\", inplace=True)\n",
    "test_data.to_csv(\"test_data.csv\")\n",
    "train_data.to_csv(\"train_data.csv\")"
   ]
  }
 ],
 "metadata": {
  "kernelspec": {
   "display_name": ".venv",
   "language": "python",
   "name": "python3"
  },
  "language_info": {
   "codemirror_mode": {
    "name": "ipython",
    "version": 3
   },
   "file_extension": ".py",
   "mimetype": "text/x-python",
   "name": "python",
   "nbconvert_exporter": "python",
   "pygments_lexer": "ipython3",
   "version": "3.10.12"
  }
 },
 "nbformat": 4,
 "nbformat_minor": 2
}

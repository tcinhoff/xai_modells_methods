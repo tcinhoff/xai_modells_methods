{
 "cells": [
  {
   "cell_type": "code",
   "execution_count": 7,
   "metadata": {},
   "outputs": [],
   "source": [
    "import pandas as pd\n",
    "\n",
    "train_data = pd.read_csv(\"trainings_daten_stuttart.csv\")\n",
    "\n",
    "last_date = train_data.iloc[train_data.last_valid_index()].date\n",
    "last_date = pd.to_datetime(last_date)\n",
    "last_date = last_date - pd.DateOffset(months=1)\n",
    "test_data = train_data[pd.to_datetime(train_data.date) > last_date]\n",
    "test_data = test_data.drop(columns=[\"yhat\"])\n",
    "train_data = train_data[pd.to_datetime(train_data.date) <= last_date]\n",
    "train_data = train_data.dropna()\n",
    "\n",
    "test_data.set_index(\"date\", inplace=True)\n",
    "train_data.set_index(\"date\", inplace=True)\n",
    "test_data.to_csv(\"test_data.csv\")\n",
    "train_data.to_csv(\"train_data.csv\")"
   ]
  },
  {
   "cell_type": "code",
   "execution_count": 1,
   "metadata": {},
   "outputs": [
    {
     "data": {
      "text/plain": [
       "date                                object\n",
       "year                                 int64\n",
       "week                                 int64\n",
       "hour                                 int64\n",
       "dayOfMonth                           int64\n",
       "day_x_hour                           int64\n",
       "lagged_revenue_D_1                 float64\n",
       "lagged_revenue_H_1                 float64\n",
       "holiday_mean_encoded               float64\n",
       "current_weather_component_1        float64\n",
       "current_weather_component_2        float64\n",
       "weather_diff_to_exp_component_1    float64\n",
       "coronaImpact                       float64\n",
       "yhat                               float64\n",
       "dtype: object"
      ]
     },
     "execution_count": 1,
     "metadata": {},
     "output_type": "execute_result"
    }
   ],
   "source": [
    "import pandas as pd\n",
    "\n",
    "train_data = pd.read_csv(\"train_data.csv\")\n",
    "# Zeige Dateiformate für jede Spalte an\n",
    "train_data.dtypes"
   ]
  }
 ],
 "metadata": {
  "kernelspec": {
   "display_name": ".venv",
   "language": "python",
   "name": "python3"
  },
  "language_info": {
   "codemirror_mode": {
    "name": "ipython",
    "version": 3
   },
   "file_extension": ".py",
   "mimetype": "text/x-python",
   "name": "python",
   "nbconvert_exporter": "python",
   "pygments_lexer": "ipython3",
   "version": "3.10.12"
  }
 },
 "nbformat": 4,
 "nbformat_minor": 2
}

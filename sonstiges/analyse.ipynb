{
 "cells": [
  {
   "cell_type": "code",
   "execution_count": 5,
   "metadata": {},
   "outputs": [
    {
     "name": "stdout",
     "output_type": "stream",
     "text": [
      "2018-10-08 12:00:00\n",
      "2023-08-30 22:00:00\n",
      "0.8692741470689462\n"
     ]
    }
   ],
   "source": [
    "import pandas as pd\n",
    "\n",
    "train_data = pd.read_csv(\"train_data_till_2023.csv\")\n",
    "\n",
    "# gebe den zeitraum von mai 2021 aus\n",
    "# print(train_data[(train_data[\"date\"] >= \"2021-05-01\") & (train_data[\"date\"] <= \"2021-05-31\")])\n",
    "# Gebe den Zeitraum des trainingsdatensatzes aus\n",
    "print(train_data[\"date\"].min())\n",
    "print(train_data[\"date\"].max())\n",
    "\n",
    "# gebe den durchschinttlichen coronaImpact aus\n",
    "print(train_data[\"coronaImpact\"].mean())"
   ]
  }
 ],
 "metadata": {
  "kernelspec": {
   "display_name": ".venv",
   "language": "python",
   "name": "python3"
  },
  "language_info": {
   "codemirror_mode": {
    "name": "ipython",
    "version": 3
   },
   "file_extension": ".py",
   "mimetype": "text/x-python",
   "name": "python",
   "nbconvert_exporter": "python",
   "pygments_lexer": "ipython3",
   "version": "3.10.12"
  }
 },
 "nbformat": 4,
 "nbformat_minor": 2
}
